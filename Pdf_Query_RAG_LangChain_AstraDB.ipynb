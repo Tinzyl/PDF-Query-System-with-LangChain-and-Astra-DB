{
  "nbformat": 4,
  "nbformat_minor": 0,
  "metadata": {
    "colab": {
      "provenance": []
    },
    "kernelspec": {
      "name": "python3",
      "display_name": "Python 3"
    },
    "language_info": {
      "name": "python"
    }
  },
  "cells": [
    {
      "cell_type": "code",
      "execution_count": 1,
      "metadata": {
        "id": "2kjDTbXywwBb"
      },
      "outputs": [],
      "source": [
        "!pip install -q cassio datasets langchain openai tiktoken"
      ]
    },
    {
      "cell_type": "code",
      "source": [
        "# Langchain components to use\n",
        "from langchain.vectorstores.cassandra import Cassandra\n",
        "from langchain.embeddings import OpenAIEmbeddings\n",
        "from langchain.llms import OpenAI\n",
        "from langchain.indexes.vectorstore import VectorStoreIndexWrapper\n",
        "\n",
        "# Support for dataset retrieval with Hugging Face\n",
        "from datasets import load_dataset"
      ],
      "metadata": {
        "id": "qkUOLm5YydNB"
      },
      "execution_count": 1,
      "outputs": []
    },
    {
      "cell_type": "code",
      "source": [
        "pip install -U langchain-community"
      ],
      "metadata": {
        "colab": {
          "base_uri": "https://localhost:8080/",
          "height": 1000
        },
        "id": "V0Hnsng6zSo4",
        "outputId": "cde1b3d9-9710-4049-99db-f171f70eba25"
      },
      "execution_count": 4,
      "outputs": [
        {
          "output_type": "stream",
          "name": "stdout",
          "text": [
            "Collecting langchain-community\n",
            "  Downloading langchain_community-0.3.8-py3-none-any.whl.metadata (2.9 kB)\n",
            "Requirement already satisfied: PyYAML>=5.3 in /usr/local/lib/python3.10/dist-packages (from langchain-community) (6.0.2)\n",
            "Collecting SQLAlchemy<2.0.36,>=1.4 (from langchain-community)\n",
            "  Downloading SQLAlchemy-2.0.35-cp310-cp310-manylinux_2_17_x86_64.manylinux2014_x86_64.whl.metadata (9.6 kB)\n",
            "Requirement already satisfied: aiohttp<4.0.0,>=3.8.3 in /usr/local/lib/python3.10/dist-packages (from langchain-community) (3.11.2)\n",
            "Collecting dataclasses-json<0.7,>=0.5.7 (from langchain-community)\n",
            "  Downloading dataclasses_json-0.6.7-py3-none-any.whl.metadata (25 kB)\n",
            "Collecting httpx-sse<0.5.0,>=0.4.0 (from langchain-community)\n",
            "  Downloading httpx_sse-0.4.0-py3-none-any.whl.metadata (9.0 kB)\n",
            "Collecting langchain<0.4.0,>=0.3.8 (from langchain-community)\n",
            "  Downloading langchain-0.3.9-py3-none-any.whl.metadata (7.1 kB)\n",
            "Collecting langchain-core<0.4.0,>=0.3.21 (from langchain-community)\n",
            "  Downloading langchain_core-0.3.21-py3-none-any.whl.metadata (6.3 kB)\n",
            "Requirement already satisfied: langsmith<0.2.0,>=0.1.125 in /usr/local/lib/python3.10/dist-packages (from langchain-community) (0.1.143)\n",
            "Requirement already satisfied: numpy<2,>=1.22.4 in /usr/local/lib/python3.10/dist-packages (from langchain-community) (1.26.4)\n",
            "Collecting pydantic-settings<3.0.0,>=2.4.0 (from langchain-community)\n",
            "  Downloading pydantic_settings-2.6.1-py3-none-any.whl.metadata (3.5 kB)\n",
            "Requirement already satisfied: requests<3,>=2 in /usr/local/lib/python3.10/dist-packages (from langchain-community) (2.32.3)\n",
            "Requirement already satisfied: tenacity!=8.4.0,<10,>=8.1.0 in /usr/local/lib/python3.10/dist-packages (from langchain-community) (9.0.0)\n",
            "Requirement already satisfied: aiohappyeyeballs>=2.3.0 in /usr/local/lib/python3.10/dist-packages (from aiohttp<4.0.0,>=3.8.3->langchain-community) (2.4.3)\n",
            "Requirement already satisfied: aiosignal>=1.1.2 in /usr/local/lib/python3.10/dist-packages (from aiohttp<4.0.0,>=3.8.3->langchain-community) (1.3.1)\n",
            "Requirement already satisfied: attrs>=17.3.0 in /usr/local/lib/python3.10/dist-packages (from aiohttp<4.0.0,>=3.8.3->langchain-community) (24.2.0)\n",
            "Requirement already satisfied: frozenlist>=1.1.1 in /usr/local/lib/python3.10/dist-packages (from aiohttp<4.0.0,>=3.8.3->langchain-community) (1.5.0)\n",
            "Requirement already satisfied: multidict<7.0,>=4.5 in /usr/local/lib/python3.10/dist-packages (from aiohttp<4.0.0,>=3.8.3->langchain-community) (6.1.0)\n",
            "Requirement already satisfied: propcache>=0.2.0 in /usr/local/lib/python3.10/dist-packages (from aiohttp<4.0.0,>=3.8.3->langchain-community) (0.2.0)\n",
            "Requirement already satisfied: yarl<2.0,>=1.17.0 in /usr/local/lib/python3.10/dist-packages (from aiohttp<4.0.0,>=3.8.3->langchain-community) (1.17.2)\n",
            "Requirement already satisfied: async-timeout<6.0,>=4.0 in /usr/local/lib/python3.10/dist-packages (from aiohttp<4.0.0,>=3.8.3->langchain-community) (4.0.3)\n",
            "Collecting marshmallow<4.0.0,>=3.18.0 (from dataclasses-json<0.7,>=0.5.7->langchain-community)\n",
            "  Downloading marshmallow-3.23.1-py3-none-any.whl.metadata (7.5 kB)\n",
            "Collecting typing-inspect<1,>=0.4.0 (from dataclasses-json<0.7,>=0.5.7->langchain-community)\n",
            "  Downloading typing_inspect-0.9.0-py3-none-any.whl.metadata (1.5 kB)\n",
            "Requirement already satisfied: langchain-text-splitters<0.4.0,>=0.3.0 in /usr/local/lib/python3.10/dist-packages (from langchain<0.4.0,>=0.3.8->langchain-community) (0.3.2)\n",
            "Requirement already satisfied: pydantic<3.0.0,>=2.7.4 in /usr/local/lib/python3.10/dist-packages (from langchain<0.4.0,>=0.3.8->langchain-community) (2.9.2)\n",
            "Requirement already satisfied: jsonpatch<2.0,>=1.33 in /usr/local/lib/python3.10/dist-packages (from langchain-core<0.4.0,>=0.3.21->langchain-community) (1.33)\n",
            "Requirement already satisfied: packaging<25,>=23.2 in /usr/local/lib/python3.10/dist-packages (from langchain-core<0.4.0,>=0.3.21->langchain-community) (24.2)\n",
            "Requirement already satisfied: typing-extensions>=4.7 in /usr/local/lib/python3.10/dist-packages (from langchain-core<0.4.0,>=0.3.21->langchain-community) (4.12.2)\n",
            "Requirement already satisfied: httpx<1,>=0.23.0 in /usr/local/lib/python3.10/dist-packages (from langsmith<0.2.0,>=0.1.125->langchain-community) (0.27.2)\n",
            "Requirement already satisfied: orjson<4.0.0,>=3.9.14 in /usr/local/lib/python3.10/dist-packages (from langsmith<0.2.0,>=0.1.125->langchain-community) (3.10.11)\n",
            "Requirement already satisfied: requests-toolbelt<2.0.0,>=1.0.0 in /usr/local/lib/python3.10/dist-packages (from langsmith<0.2.0,>=0.1.125->langchain-community) (1.0.0)\n",
            "Collecting python-dotenv>=0.21.0 (from pydantic-settings<3.0.0,>=2.4.0->langchain-community)\n",
            "  Downloading python_dotenv-1.0.1-py3-none-any.whl.metadata (23 kB)\n",
            "Requirement already satisfied: charset-normalizer<4,>=2 in /usr/local/lib/python3.10/dist-packages (from requests<3,>=2->langchain-community) (3.4.0)\n",
            "Requirement already satisfied: idna<4,>=2.5 in /usr/local/lib/python3.10/dist-packages (from requests<3,>=2->langchain-community) (3.10)\n",
            "Requirement already satisfied: urllib3<3,>=1.21.1 in /usr/local/lib/python3.10/dist-packages (from requests<3,>=2->langchain-community) (2.2.3)\n",
            "Requirement already satisfied: certifi>=2017.4.17 in /usr/local/lib/python3.10/dist-packages (from requests<3,>=2->langchain-community) (2024.8.30)\n",
            "Requirement already satisfied: greenlet!=0.4.17 in /usr/local/lib/python3.10/dist-packages (from SQLAlchemy<2.0.36,>=1.4->langchain-community) (3.1.1)\n",
            "Requirement already satisfied: anyio in /usr/local/lib/python3.10/dist-packages (from httpx<1,>=0.23.0->langsmith<0.2.0,>=0.1.125->langchain-community) (3.7.1)\n",
            "Requirement already satisfied: httpcore==1.* in /usr/local/lib/python3.10/dist-packages (from httpx<1,>=0.23.0->langsmith<0.2.0,>=0.1.125->langchain-community) (1.0.7)\n",
            "Requirement already satisfied: sniffio in /usr/local/lib/python3.10/dist-packages (from httpx<1,>=0.23.0->langsmith<0.2.0,>=0.1.125->langchain-community) (1.3.1)\n",
            "Requirement already satisfied: h11<0.15,>=0.13 in /usr/local/lib/python3.10/dist-packages (from httpcore==1.*->httpx<1,>=0.23.0->langsmith<0.2.0,>=0.1.125->langchain-community) (0.14.0)\n",
            "Requirement already satisfied: jsonpointer>=1.9 in /usr/local/lib/python3.10/dist-packages (from jsonpatch<2.0,>=1.33->langchain-core<0.4.0,>=0.3.21->langchain-community) (3.0.0)\n",
            "Requirement already satisfied: annotated-types>=0.6.0 in /usr/local/lib/python3.10/dist-packages (from pydantic<3.0.0,>=2.7.4->langchain<0.4.0,>=0.3.8->langchain-community) (0.7.0)\n",
            "Requirement already satisfied: pydantic-core==2.23.4 in /usr/local/lib/python3.10/dist-packages (from pydantic<3.0.0,>=2.7.4->langchain<0.4.0,>=0.3.8->langchain-community) (2.23.4)\n",
            "Collecting mypy-extensions>=0.3.0 (from typing-inspect<1,>=0.4.0->dataclasses-json<0.7,>=0.5.7->langchain-community)\n",
            "  Downloading mypy_extensions-1.0.0-py3-none-any.whl.metadata (1.1 kB)\n",
            "Requirement already satisfied: exceptiongroup in /usr/local/lib/python3.10/dist-packages (from anyio->httpx<1,>=0.23.0->langsmith<0.2.0,>=0.1.125->langchain-community) (1.2.2)\n",
            "Downloading langchain_community-0.3.8-py3-none-any.whl (2.4 MB)\n",
            "\u001b[2K   \u001b[90m━━━━━━━━━━━━━━━━━━━━━━━━━━━━━━━━━━━━━━━━\u001b[0m \u001b[32m2.4/2.4 MB\u001b[0m \u001b[31m60.6 MB/s\u001b[0m eta \u001b[36m0:00:00\u001b[0m\n",
            "\u001b[?25hDownloading dataclasses_json-0.6.7-py3-none-any.whl (28 kB)\n",
            "Downloading httpx_sse-0.4.0-py3-none-any.whl (7.8 kB)\n",
            "Downloading langchain-0.3.9-py3-none-any.whl (1.0 MB)\n",
            "\u001b[2K   \u001b[90m━━━━━━━━━━━━━━━━━━━━━━━━━━━━━━━━━━━━━━━━\u001b[0m \u001b[32m1.0/1.0 MB\u001b[0m \u001b[31m45.9 MB/s\u001b[0m eta \u001b[36m0:00:00\u001b[0m\n",
            "\u001b[?25hDownloading langchain_core-0.3.21-py3-none-any.whl (409 kB)\n",
            "\u001b[2K   \u001b[90m━━━━━━━━━━━━━━━━━━━━━━━━━━━━━━━━━━━━━━━━\u001b[0m \u001b[32m409.5/409.5 kB\u001b[0m \u001b[31m26.4 MB/s\u001b[0m eta \u001b[36m0:00:00\u001b[0m\n",
            "\u001b[?25hDownloading pydantic_settings-2.6.1-py3-none-any.whl (28 kB)\n",
            "Downloading SQLAlchemy-2.0.35-cp310-cp310-manylinux_2_17_x86_64.manylinux2014_x86_64.whl (3.1 MB)\n",
            "\u001b[2K   \u001b[90m━━━━━━━━━━━━━━━━━━━━━━━━━━━━━━━━━━━━━━━━\u001b[0m \u001b[32m3.1/3.1 MB\u001b[0m \u001b[31m78.0 MB/s\u001b[0m eta \u001b[36m0:00:00\u001b[0m\n",
            "\u001b[?25hDownloading marshmallow-3.23.1-py3-none-any.whl (49 kB)\n",
            "\u001b[2K   \u001b[90m━━━━━━━━━━━━━━━━━━━━━━━━━━━━━━━━━━━━━━━━\u001b[0m \u001b[32m49.5/49.5 kB\u001b[0m \u001b[31m3.4 MB/s\u001b[0m eta \u001b[36m0:00:00\u001b[0m\n",
            "\u001b[?25hDownloading python_dotenv-1.0.1-py3-none-any.whl (19 kB)\n",
            "Downloading typing_inspect-0.9.0-py3-none-any.whl (8.8 kB)\n",
            "Downloading mypy_extensions-1.0.0-py3-none-any.whl (4.7 kB)\n",
            "Installing collected packages: SQLAlchemy, python-dotenv, mypy-extensions, marshmallow, httpx-sse, typing-inspect, pydantic-settings, dataclasses-json, langchain-core, langchain, langchain-community\n",
            "  Attempting uninstall: SQLAlchemy\n",
            "    Found existing installation: SQLAlchemy 2.0.36\n",
            "    Uninstalling SQLAlchemy-2.0.36:\n",
            "      Successfully uninstalled SQLAlchemy-2.0.36\n",
            "  Attempting uninstall: langchain-core\n",
            "    Found existing installation: langchain-core 0.3.19\n",
            "    Uninstalling langchain-core-0.3.19:\n",
            "      Successfully uninstalled langchain-core-0.3.19\n",
            "  Attempting uninstall: langchain\n",
            "    Found existing installation: langchain 0.3.7\n",
            "    Uninstalling langchain-0.3.7:\n",
            "      Successfully uninstalled langchain-0.3.7\n",
            "Successfully installed SQLAlchemy-2.0.35 dataclasses-json-0.6.7 httpx-sse-0.4.0 langchain-0.3.9 langchain-community-0.3.8 langchain-core-0.3.21 marshmallow-3.23.1 mypy-extensions-1.0.0 pydantic-settings-2.6.1 python-dotenv-1.0.1 typing-inspect-0.9.0\n"
          ]
        },
        {
          "output_type": "display_data",
          "data": {
            "application/vnd.colab-display-data+json": {
              "pip_warning": {
                "packages": [
                  "sqlalchemy"
                ]
              },
              "id": "65c0a1d39fb3431b9622f11d8fd4fa93"
            }
          },
          "metadata": {}
        }
      ]
    },
    {
      "cell_type": "code",
      "source": [
        "# With CassIO, the engine powering the Astra DB integration in LangChain,\n",
        "# you will also initialize the DB connection:\n",
        "import cassio"
      ],
      "metadata": {
        "id": "C-SlghdhzYGP"
      },
      "execution_count": 2,
      "outputs": []
    },
    {
      "cell_type": "code",
      "source": [
        "!pip install PyPDF2"
      ],
      "metadata": {
        "colab": {
          "base_uri": "https://localhost:8080/"
        },
        "id": "o9ws2s51z03h",
        "outputId": "9e9b0d11-ec28-4ba9-a2e5-96406eb9ec55"
      },
      "execution_count": 3,
      "outputs": [
        {
          "output_type": "stream",
          "name": "stdout",
          "text": [
            "Collecting PyPDF2\n",
            "  Downloading pypdf2-3.0.1-py3-none-any.whl.metadata (6.8 kB)\n",
            "Downloading pypdf2-3.0.1-py3-none-any.whl (232 kB)\n",
            "\u001b[?25l   \u001b[90m━━━━━━━━━━━━━━━━━━━━━━━━━━━━━━━━━━━━━━━━\u001b[0m \u001b[32m0.0/232.6 kB\u001b[0m \u001b[31m?\u001b[0m eta \u001b[36m-:--:--\u001b[0m\r\u001b[2K   \u001b[90m━━━━━━━━━━━━━━━━━━━━━━━━━━━━━━━━━━━━━━━━\u001b[0m \u001b[32m232.6/232.6 kB\u001b[0m \u001b[31m8.8 MB/s\u001b[0m eta \u001b[36m0:00:00\u001b[0m\n",
            "\u001b[?25hInstalling collected packages: PyPDF2\n",
            "Successfully installed PyPDF2-3.0.1\n"
          ]
        }
      ]
    },
    {
      "cell_type": "code",
      "source": [
        "from PyPDF2 import PdfReader"
      ],
      "metadata": {
        "id": "OLpVsTStz8w5"
      },
      "execution_count": 4,
      "outputs": []
    },
    {
      "cell_type": "code",
      "source": [
        "ASTRA_DB_APPLICATION_TOKEN = \"\"\n",
        "ASTRA_DB_ID = \"\"\n",
        "OPENAI_API_KEY = \"\""
      ],
      "metadata": {
        "id": "omTL3xmI0CRx"
      },
      "execution_count": 5,
      "outputs": []
    },
    {
      "cell_type": "code",
      "source": [
        "pdfreader = PdfReader(\"SF_Guide.pdf\")"
      ],
      "metadata": {
        "id": "QyxmeOsf08x7"
      },
      "execution_count": 6,
      "outputs": []
    },
    {
      "cell_type": "code",
      "source": [
        "from typing_extensions import Concatenate\n",
        "# read text from pdf\n",
        "raw_text = ''\n",
        "for i, page in enumerate(pdfreader.pages):\n",
        "  content = page.extract_text()\n",
        "  if content:\n",
        "    raw_text += content"
      ],
      "metadata": {
        "id": "IHwMsCXe1Dqg"
      },
      "execution_count": 7,
      "outputs": []
    },
    {
      "cell_type": "code",
      "source": [
        "raw_text"
      ],
      "metadata": {
        "id": "-SzAYY4Y1iCI",
        "outputId": "d6346c18-7784-4995-8b59-4e162127245c",
        "colab": {
          "base_uri": "https://localhost:8080/",
          "height": 171
        }
      },
      "execution_count": 8,
      "outputs": [
        {
          "output_type": "execute_result",
          "data": {
            "text/plain": [
              "'SAN FRANCISCO GUIDE\\nSAN FRANCISCO GUIDE\\n2\\nMoney 4\\nCommunication 5\\nHolidays 6\\nTransportation 7\\nFood 9\\nEvents During The Year 10\\nThings to do 11\\nDOs and DO NOTs 12\\nActivities 17\\n.\\nEmergency Contacts\\n911: emergencynumber\\nSan Francisco Police Department: +1 415\\n5538090\\nEssential Information\\nSAN FRANCISCO GUIDE\\n3\\nThere are many reasons why tourists from all\\novertheworldvisitSanFrancisco. Itsbeautiful\\nVictorianarchitectureandproximitytothePa-\\ncificOceanarejustacoupleofthem. Thecityis\\ndividedintoelevendistricts,eachofthemwith\\ntheirownuniqueatmosphere, andeverybody\\nwillfindtheirfavoriteneighborhood!\\nSanFranciscoisanidealplacetovisitanytime;\\nitsmildwintersandwarmdrysummersattract\\ntourists throughout the year. There is a lot of\\ntosee –TheGoldenGateisprobablythemost\\nfamousbridgeintheworldandbelongstothe\\nSeven Wonders of the Modern World. Fisher-\\nman’s Wharf is an admirable seaside prome-\\nnade with restaurants and shops. And if you\\nwant to see it all at once, climb to the top of\\nCoitTowerandenjoyapanoramicviewofthe\\ncity!\\nGet carried away by the distinct ambience of\\nthe largest city of Northern California. Visit\\nits extensive sandy beaches and go to muse-\\nums of every type, including the famous for-\\nmer prison Alcatraz. San Francisco is a great\\nplaceforallkindsoftourists!\\nTime Zone\\nUTC/GMT-8hours,observesDST.\\nContacts\\nTouristContacts\\nSanFranciscoCustomerServiceCenter(in-\\nformationonparkingandtraffic): 311\\nVisitorInformationCentre: +14153912000\\nCalifornia Welcome Centre: +1 415 981\\n1280\\nNon-emergencypolicenumber: +1415553\\n0123MONEY\\n4Currency – 1 United States dollar (USD) = 100\\ncents.\\nTherearemanyoptionsforexchangingcurrency\\ninSanFrancisco. Exchangeofficeswithfavorable\\nrates are scattered all over the city. Banks also\\noffer good rates. The worst rate of exchange is\\nat airports. Change only necessary amounts of\\nmoney there. You can change cash in hotels but\\ntheydon ’thaveveryfavorablerates. Thereisthe\\npossibility of buying dollars online, e.g. at Trav-\\nelex (www.travelex.com) Your cash will be deliv-\\nered to the address you wish. Travelers ’checks\\nare a popular way of carrying money in the US.\\nTheycanbeexchangedatbanks.\\nDebitandcreditcardsarewidelyacceptedinCal-\\nifornia; American Express, Visa and MasterCard\\nare the most common. ATMs are available in all\\npartsofthecity24hoursaday. However,insome\\nproblematicneighborhoodstheyarenotopenat\\nnight.\\nTax Refunds\\nCalifornia doesn ’t return sales tax to foreign visi-\\ntors.\\nPrices\\nThe cost of living is quite high compared to the\\nrestoftheUS.Accordingtorankings,itisthethird\\nmostexpensivecityinthecountry,afterNewYork\\nandHonolulu.\\nPricesofhostelsinthecityinashareddormitory\\nroomrangefrom$20–$30perpersonpernight.\\nThe price of a double room in a three-star hotel\\nstarts at $80 per night and, in a four-star hotel,\\nfrom$140.Averageprices:\\nMeal,Inexpensiverestaurant–$12\\nMealfor2,Mid-rangerestaurant,Three-course\\n–$60\\nCombomealatMcDonaldsorSimilar–$6\\n0.5ldomesticbeerinrestaurant–$4.50\\n0.5ldomesticbeerinsupermarket–$3\\n1.5lwaterinsupermarket-$2\\n1lofgasoline–$1\\nWhen planning to visit multiple attractions, you\\ncanbuytheCityPasswithadmissiontofivepopu-\\nlar attractions in the city and use of public trans-\\nport. With it, you also skip the lines! If you are\\na student, do not forget to carry your students ’\\ncard with you as there are discounts offered at\\nmost San Francisco museums and cinemas. You\\ncanevengetdiscountsonmealsinsomerestau-\\nrants.\\nTipping\\nThere are no specific tipping habits in San Fran-\\ncisco. They are the same as in the rest of the\\nUS, meaning that it is proper to leave 15-20% of\\nthe bill. If you are satisfied with services, come\\nnearer20%. Intaxis,itisOKtoleave15%or$1-2,\\nwhichever is higher. For bellmen, leave $1 per\\nbag. For housekeepers leave tips on dressers,\\nabout$1-2perday.\\nCOMMUNICATION\\n5Electricity\\nIf you are not from the US, you may experience\\nsome trouble with electricity plugs. Remember\\nthatUSplugsdifferfromthoseinAsiaorEurope.\\nSockets are of ‘Type B ’according to standards.\\nTake an adapter with you if you need to, but\\nyou may well need a converter too as voltage is\\n110-120 V. Most electrical appliances from Eu-\\nropeandAsiaaredesignedfor220V.\\nLanguages\\nThemajorlanguagespokeninSanFranciscois,of\\ncourse,English. SomepeoplealsospeakSpanish,\\nhowever fewer than in other parts of California.\\nThecityhasalargecommunityofChinese,that ’s\\nwhy you can hear Cantonese and Mandarin spo-\\nkenoften,mainlyinChinatown.\\nMobile Phones\\nThere are many providers in the United States;\\nonly two of the most popular, AT&T and T-Mo-\\nbile, use the GSM standard which is compatible\\nwith most of the phones from Europe. However,\\nthe frequencies of the North American GSM are\\ndifferent from the rest of the world and not all\\nphones can handle them. Always double-check\\nwith your provider. Other American providers,\\nsuch as Verizon or Virgin Mobile, use the CDMA\\nstandardwhichmightnotworkwithyourmobile\\nphoneifyouarecomingfromoutsideoftheUSA.\\nThere are also 3G and 4G networks operating in\\nSanFrancisco.\\nSanFranciscoisamountainouscityandtherecan\\nbesomeproblemswithcellphonenetworkcover-\\nage. Generally, Verizon has the best one in both\\n3G and 4G. T-Mobile has problems with connec-\\ntion in the city. AT&T and Sprint perform quite\\nwell.Internet\\nTheInternetiswidelyusedinCaliforniaandmany\\nhotels provide wireless internet connection. You\\ncanalsoaccesstheInternetinpubliclibraries,e.g.\\nin San Francisco Public Library (sfpl.org) There\\nare also a lot of internet cafés in the city. Some\\nof them are open 24 hours a day. Cafés usually\\nprovide free Wi-Fi to customers. More than 100\\nplaces in San Francisco offer internet connection\\n(www.openwifispots.com).\\nInternet Resources\\nOfficialtravelguide(www.sanfrancisco.travel)\\nSanFranciscoMunicipalRailwaywebsite(www.\\nsfmta.com)\\nBayAreaRapidTransitwebsite(www.bart.gov)\\nCarltrainofficialwebsite(www.caltrain.com)HOLIDAYS\\n6\\nNew Year ’s Day–January1\\nMartin Luther King, Jr. Day – third Monday\\ninJanuary\\nRosa Parks Day –Feburary4\\nWashington\\'s Birthday – third Monday in\\nFebruary\\nSusan B. Anthony Day –February15\\nCésar Chávez Day –March31\\nGoodFridayandEasterSaturday,Sundayand\\nMonday\\nPatriots\\' Day –thirdMondayinApril\\nConfederate Memorial Day\\nMemorial Day –lastMondayinMay\\nJefferson Davis Day –firstMondayinJune\\nIndependence Day –July4\\nLabor Day –firstMondayinSeptember\\nColumbus Day –secondMondayinOctober\\nThanksgiving Day – fourth Thursday in No-\\nvember\\nChristmas Day –December25\\nBoxing Day –December26\\nNew Year\\'s Eve –December31\\nOpening Hours\\nMost large stores in San Francisco open at 10\\na.m., closing anytime between 7 – 9 p.m. (earlier\\non Sundays). Small souvenir shops usually stay\\nopen until late. Most banks open at 9 a.m. and\\ncloseataround6p.m.\\nMuseumsgenerallyopenat9–10a.m. andclose\\nat4–5p.m. SomemuseumsareclosedonMon-\\ndays. Betterchecktheopeninghoursbeforeyou\\npay a visit. Many San Francisco restaurants and\\ncafés (including Starbucks) are open 24 hours a\\nday.\\nTRANSPORTATION\\n7Public Transportation\\nSanFranciscohasaverycomplexsystemofpub-\\nlic transport, which is one of the best in the US.\\nSan Francisco Municipal Railway (www.sfmta.\\ncom)affectionatelycalledMuni,operatessubway\\nlines, trams, cable cars, buses and trolley buses.\\nYou can get to most parts of San Francisco using\\nthese, including the tourist attractions. A single\\nride costs $2 for 90 minutes. A one-day ticket\\ncosts $14, a 3-day pass is for $22 and a week\\npasscosts$28. Youcanplanyourjourneyonthe\\nMuni website. Tickets can be bought at vending\\nmachines which are located in Muni Metro sub-\\nway stations. You can also buy them in kiosks\\nand neighbourhood stores in different locations\\n(www.sfmta.com)\\nThe subway lines are marked with letters, J, K, L,\\nM, N, S and T. The first metro leaves at 4.30 a.m.\\nandthelastoneat1.30a.m. Buses,althoughless\\nfrequently, also operate at night. The night bus\\nservice is called All Nighter (www.sfmta.com) or\\nOwlService.\\nCable cars are vehicles typical for San Francisco.\\nActually, they are historic streetcars and operate\\non three lines between 7 a.m. and 9 p.m. They\\nareamust-dowhilestayinginthecity! However,\\nyouneedaspecialticketforthem,whichcosts$6.\\nIf you possess a one-day ticket, riding cable cars\\nisincluded. Youcanalsotakearideonahistoric\\nstreetcar which runs from Fisherman ’s Wharf.\\nGettingtoperipheralpartsofSanFranciscoisnot\\ndifficult; busandtrolleybuslinesservethemand\\nareavailable24hoursaday.\\nTaxis\\nCabs in San Francisco are quite expensive. They\\ncan be hailed at major transport hubs or in thetouristareas. Inothercases,itisbettertocallfor\\nthem.\\nGenerally, you pay up to $3.50 for hopping into\\na cab. An approximate cost of a one mile ride\\nis about $2.75. Additionally, you have to pay for\\nwaiting in traffic and add a customary tip to a\\nbill. Remember that when traveling more than\\n15miles(24km),youwillpay150%ofthenormal\\nfare.\\nThe largest taxi company in the city is Yellowcab\\n(yellowcabsf.com) renowned for the yellow color\\nof their vehicles. Their phone number is +1 415\\n3333333. OtherpopularcompaniesareLuxorcab\\n(www.luxorcab.com)(+14152824141),American\\nTaxicab(+14156142000)andVeteransCabCom-\\npany(+14156484444).\\nRegional Transportation\\nWhen going outside the city, you can use the\\nBART (www.bart.gov) metro system – Bay Area\\nRapidTransit. ItslinesruntoOaklandandBerke-\\nleyaswellastotheSanFranciscoAirport. These\\ntrains are very fast, over 170 km per hour, and\\ncover46stations. FromSanFranciscodowntown\\nstations, trains leave every few minutes. They\\noperatefrom4a.m. to12.30a.m.\\nCarltrain (www.caltrain.com) connects San Fran-\\ncisco and San Jose in 57 minutes. You can also\\ngettothePeninsulaortoSiliconValley. Trainsgo\\nfromthe4thandKingterminal. Itisnecessaryto\\nbuyticketsbeforeboarding.\\nCAShuttleBus(www.cashuttlebus.com)provides\\na daily service of lines from Los Angeles to San\\nFrancisco and vice versa. Low Fare Bus (www.\\nlowfarebus.com) connects San Francisco withTRANSPORTATION\\n8other cities in California, such as Sacramento,\\nOakland,SanDiegoandLA.\\nYou can also get to and from San Francisco by\\nboat. There are cruise ships in the city, but\\nalso ferries from different towns. For exam-\\nple, traveling to and from Oakland, Alameda or\\nVallejoispossiblewithBlueandGoldFleet(www.\\nblueandgoldfleet.com)\\nDriving\\nYoucandriveinCaliforniaifyouhaveaninterna-\\ntionaldrivinglicensevalidinthecountryofissue.\\nYoumustobeyroadsignsandhaveyourseatbelts\\nfastened. Children under the age of six must be\\nin safety seats. The permitted level of alcohol in\\nthe blood is 0,08%. However, you should avoid\\ndrinkinganddriving.\\nSpeedlimits:\\nresidentialorbusinessareas–40kph(25mph)\\nsuburbanandcityroads–90kph(55mph)\\nhighways–105kph(65mph)\\nHowever, Californian laws say that you should\\nnever drive faster than is safe for current condi-\\ntions.\\nIn California, you can usually turn right at a red\\nlight,withexceptionsbeingsigned. Youcanover-\\ntake from the right side. You have to stop when\\nyou see a school bus with red lights flashing.\\nWhen pedestrians enter a crosswalk, you must\\nstopandletthempass.\\nAs in every large city, traffic jams are common\\nin San Francisco. Downtown, there are many\\none-way streets and for those who are not used\\nto driving in San Francisco, it can be quite prob-\\nlematic. Parking is expensive and unavailable\\nin many quarters. Driving in the hilly areas ofthe city can be dangerous. Probably, the most\\ntwisted street in the world is Lombard Street\\n(en.wikipedia.org) Avoid driving there unless you\\nare an excellent driver. When parking on a hill,\\ndonotforgettousetheparkingbrake!\\nIfyouwanttorentacar,youshouldbeatleast18\\nyearsold. However,atsomecarrentals,youhave\\ntobe21. Youmusthaveavaliddriver ’slicense.\\nWalkability\\nAccording to rankings, San Francisco is the sec-\\nondmostwalkablecityintheUSandsomeneigh-\\nborhoods are especially ideal for walking, for ex-\\nample Chinatown, Lake Street and Marina. Pre-\\nsidioisalsocomfortableforwalking. Areasofthe\\nGoldenGateParkanditssurroundingsarenicely\\nwalkable. Therearemanypathwaysaround.\\nHowever,SanFranciscoisalsoknownforitssteep\\nslopes,someofwhicharedifficulttoascendeven\\nin a car. They are so steep that there are stair-\\nways! The worst neighborhoods in terms of hilli-\\nness are Corona Heights, Buena Vista Park and\\nGolden Gate Heights. The least walkable parts\\nof San Francisco overall are Stonestown, Nobhill\\nandTenderloin,whichisalsoinfamousforahigh\\ncrimerate. Forbetterorientationinthecity,take\\nagoodmapwithyou. Ifyougetlost,askforhelp.\\nBecause of mountainous character of San Fran-\\ncisco,itcanbequitedifficultforpeopleinwheel-\\nchairs to explore. Most public transport vehicles\\nare accessible and there is also the Paratransit\\nTaxi service, which gives discounts on transport\\nto disabled people. The city publishes a guide,\\nSan Francisco Access (media.sanfrancisco.travel)\\nwith all the information disabled people may\\nneedwhilevisitingthecity.\\nFOOD\\n9Northern Californian cuisine consists mostly of\\nfruit, vegetables, meat and seafood, with a pref-\\nerenceoffreshingredients. Becauseofthelarge\\nChinese population, Chinese food is also pop-\\nular. It is mostly authentic, cooked by Chinese\\nchefs. California is close to Mexico, so Spanish\\ninfluencesarealsofoundhere.\\nSan Francisco has a unique kind of bread; sour-\\ndough bread, which is sold in many bakeries in\\nthecity. Freshcrabsareavailableintanksforyou\\ntochoosefrom,andacookwillpreparethemfor\\nyou. Oystersarealsowidelypopular.\\nIf you like confectionery, you should definitely\\ntry legendary Ghirardelli Chocolates! Tasty hot\\nchocolate and coffee drinks, ice cream and sun-\\ndaes are prepared using their chocolate. The\\nmainstoreisattheGhirardelliSquare.\\nFor those who like wine, delicious Californian\\nwines are available everywhere. More than 90%\\nof all American wines come from California.\\nThe history of its production dates back to the\\n17th century. You can taste white, red, rose or\\nsparkling–itisguaranteedthateveryonewillfind\\nafavorite!\\nLegal Age\\nThe legal age for the consumption of alcohol in\\nthe state of California is 21. If you are younger\\nthanthisage,youcan ’tbuyordrinkalcoholicbev-\\nerages. YoumaybeaskedtoshowyourIDwhen\\nbuyingalcohol.\\nLastcallinCalifornianbarsis2a.m. Inbars,there\\nis not a strict dress code, however you should\\nnotbebarefootorbewearingtornclothes. Many\\nrestaurants,ontheotherhand,havequiteastrict\\ndress code, e.g. shirts for men and dresses forwomen. Dressappropriatelywhenyougooutto\\neat.EVENTS DURING THE YEAR\\n10January\\nChinese New Year Festival & Parade (www.\\nchineseparade.com)\\nFebruary\\nPacificOrchidExposition(www.orchidsanfrancisco.\\norg)–anexhibitionofflowers\\nMarch\\nSan Francisco International Asian American\\nFilmFestival(caamedia.org)–thelargestfesti-\\nvalofitskindintheUS\\nMay\\nInternational Children\\'s Festival – a festival of\\nfood,music,funandgamesforfamilies\\nSanFranciscoCarnaval(sfcarnaval.org)\\nJune\\nEthnic Dance Festival (www.worldartswest.\\norg) – dance performances of ethnic groups\\nlivinginSanFrancisco\\nJuly\\nFillmoreStreetJazzFestival(www.fillmorejazzfestival.\\ncom)\\nSeptember\\nChocolateFestival(ghirardellisq.com)\\nOctober\\nCastroStreetFair(www.castrostreetfair.org)\\nDecember\\nGreatDickensChristmasFair(www.dickensfair.\\ncom)\\nTHINGS TO DO\\n11Free Things To Do\\nItcanbequitecostlytovisitmuseumsinSanFran-\\ncisco. However, some of them, such as the de\\nYoung Museum or the Asian Art Museum, have\\nfreeentranceonthefirstTuesdayofeverymonth.\\nOakland Museum of California is free to visit on\\nthesecondSundayofeverymonth. Othermuse-\\numsarefreetoenter:\\nBoudin Demonstration Bakery Museum ex-\\nplaining the history of San Francisco sour-\\ndoughbread\\nAntique Vibrator Museum with an exposition\\nofvariousvibrators\\nMuseo ItaloAmericano which also serves as a\\nculturalcenter\\nMuseumofChildren ’sArt\\nCable Car Museum presenting the history of\\nSanFrancisco ’suniquemeansoftransport\\nYou can visit San Francisco ’s parks for free or\\ntake a free guided tour (www.sfcityguides.org)\\nprovided by volunteers. You will see the best of\\nthe city! If you want to see San Francisco from\\na bird’s eye view, climb to the observation tower\\nof de Young Museum or to the Coit Tower. Both\\nare free unless you use the lift. Those interested\\nindifferentculturescanvisittheChineseCulture\\nCenter(www.c-c-c.org)\\nShopping\\nIfyouwanttobuysomethingoriginal,youshould\\ndefinitely visit the flea markets of San Fran-\\ncisco. You can go to Berkeley Flea Market (www.\\nberkeleyfleamarket.com) to buy art, antiquities,\\nbooks or furniture. Alemany Flea is also a good\\nplace to search for various items. In Treasure\\nIsland Flea (www.treasureislandflea.com) you\\ncan not only shop but also participate in various\\neventstakingplacethere.In major tourist parts of the city, there are many\\ngift and souvenir shops, especially around Fish-\\nerman ’s Wharf. But prices can differ, so it may\\nbeworthshoppingaround. ThemosttypicalSan\\nFranciscan souvenirs are Ghirardelli chocolates,\\ncablecartoys,GoldenGategiftsetc.DOS AND DO NOTS\\n12\\nDOstrolldowntheFisherman ’sWharf.\\nDOeat sourdoughbread, a typicalproduct of\\nSanFrancisco.\\nDOgotoChinatownandobservetheirculture.\\nDOasklocalsaboutwheretogointhecity.\\nDOtakearideinacablecar.\\nDONOTforgettoapplyaparkingbrakewhile\\nparkingonahill.\\nDO NOT go to Tenderloin neighborhood at\\nnight.\\nDO NOT miss walking on the Golden Gate\\nBridge.\\nDO NOT expect tropical summer tempera-\\ntures, the average summer temperature is\\nabout22°C/71°F.\\nSafety\\nSan Francisco has more than 7.5 million inhabi-\\ntants, thus problems with safety occur quite fre-\\nquently. There are many beggars in the streets,\\nmostly in major tourist areas, such as Market\\nStreet,Tenderloin,UnionSquareandaroundthe\\nGoldenGatePark. Itisadvisablenottogivethem\\nanymoneyandnottopayattentiontothematall.\\nDonotwalkaloneandavoidneighborhoodssuch\\nas Tenderloin, the Mission District or the Market\\nStreet at night. Carry a map with you in order to\\norientateyourselfbetter. Dobeacautiouspedes-\\ntrian; drivers tend to be rude and disrespectful.\\nNever leave your small children walking alone;\\ntheycaneasilybecomevictimsofcaraccidents.\\nDo not carry large amount of money with you,\\nbut rather store it in a safe at your hotel. Do not\\nwear striking jewelry and put your camera into\\nanordinarybag. Alwayscarryyourbaginfrontof\\nyou, especially on public transport and at tourist\\nplaces, which can be crowded. There are many\\npickpockets around, so stay alert. Do not leave\\nvaluables in your car as they are the target ofbreak-ins in San Francisco. Garage and paid-for\\nparkingisconsiderablysaferthanparkingatpub-\\nliccarparksoronthestreet.\\nThere are many wonderful beaches in San Fran-\\ncisco; however, not all of them are safe. The\\nrisk of rip currents is high and present danger\\nto non-swimmers and good swimmers alike.\\nThere are signs marking beaches with preva-\\nlence of rip currents, but they are usually small\\nandnotclearlyvisible. Themostdangerousplace\\nis Ocean Beach. Currents are not dangerous to\\nbeach walkers, though. Great white sharks live\\nnear the coast of Western America but are not\\nusuallyabigthreattoswimmers.\\nIn hotels, open your room doors only to people\\nyou are expecting and to hotel staff. If you are\\nnotsureaboutaperson,callthereceptiontover-\\nifytheiridentity. Therehavebeencasesofscams\\nreported in hotels in California. People call hotel\\nreceptionsaskingforsurnamesorforroomnum-\\nbers. Then, they call the visitor, claiming to be\\nhotel management calling about problems with\\nthevisitor ’screditcard. Theyaskthemto “repeat ”\\ntheiraddressandcreditcardnumber. Donotgive\\nthisinformationtoanyone;bettergototherecep-\\ntionpersonally! Also,whileusingATMsmakesure\\nthat there is nobody too close to you. There are\\npeople who try to read your PIN code and your\\ncardmightbemisusedlater.\\nSan Francisco is a zone of frequent earthquakes\\nbecause of the nearby San Andreas Fault. Small\\nearthquakes with magnitudes of between 2.5 –\\n3.5oftenoccurinthearea. UnitedStatesGeolog-\\nical Survey (earthquake.usgs.gov) locates all the\\nearthquakesintheareaandprovidespeoplewith\\nemergencyplans.\\nDOS AND DO NOTS\\n13TapwaterissafetodrinkinSanFrancisco,aswell\\nasinCaliforniaasawhole.DOS AND DO NOTS\\n ACTIVITIES\\n17\\nChina Beach\\nThisbeachoffersmagnificentviewsoftheGoldenGateBridgeandalsois\\ntheonly\"safetoswim\"beach.\\n496SeaCliffAve,SanFrancisco,CA94121,USA\\nGPS:N37.78766,W122.49112\\nA\\nGolden Gate Park\\nThisbeautifullargeparkishometoCaliforniaAcademyofSciencemu-\\nseum,DeYongMuseumandavarietyofgardens,playgroundsandmore.\\n50OverlookDr,SanFrancisco,CA94122,USA\\nGPS:N37.76890,W122.48549\\nPhone:\\n+14152630991\\nOpening hours:\\nTheparkisopenfromsunrisetosunset.\\nTheopeninghoursofattractionsvary.\\nAdmission:\\nAdmissiontotheparkisfree.\\nHowever,someattractionsandparkingrequireextrafees.\\nB\\nGolden Gate Bridge\\nProbablyTHEmostfamousbridgeinthewholeworld,thisoneisanab-\\nsolutemust-seeinSanFrancisco.\\n1401ElCaminoReal,SanFrancisco,CA94129,USA\\nGPS:N37.80712,W122.47535\\nPhone:\\n+14159215858\\nCACTIVITIES\\n18\\nde Young Museum\\nLocatedintheGoldenGatePark,thislong-operatingmuseum(openedin\\n1895)offersgreatcollectionsofart.\\n50HagiwaraTeaGardenDr,SanFrancisco,CA94118,USA\\nGPS:N37.77147,W122.46868\\nPhone:\\n+14157503600\\nOpening hours:\\nMon: closed\\nTue–Sun: 9:30a.m. –5:15p.m.\\nFri(March29throughNovember29only): 9:30a.m. –8:45p.m.\\nAdmission:\\nAdults: $10\\nSeniors: $7\\nYouth(13-17),students: $6\\nChildren(under12): free\\nD\\nThe Exploratorium\\nVeryinteractiveandfamily-friendlymuseumwhichexploresscience,art\\nandhumanperceptioninaliteralway. Takepartinvariousactivities.\\nPier15(EmbarcaderoatGreenSt),SanFrancisco,CA94111,USA\\nGPS:N37.80235,W122.39680\\nPhone:\\n+14155610360\\nOpening hours:\\nTue,Fri–Sun: 10a.m. –5p.m.\\nWed: 10a.m. –10p.m.\\nThu: 10a.m. –5p.m.;6p.m. –10p.m. for18+visitors\\nAdmission:\\nAdults: $25\\nSeniors,students,youth(6-17): $19\\nChildren(under5): free\\nAdulteveningonThu: $15\\nE\\nACTIVITIES\\n19\\nTwin Peaks\\nAllegedlythebestplacetowatchsunsetorsunriseoverSanFrancisco.\\nDefinitelyworthseeing,ifyoudon\\'tmindgettingupearly,thatis.\\n130GardensideDr,SanFrancisco,CA94131,USA\\nGPS:N37.75342,W122.44531\\nPhone:\\n+14153912000\\nF\\nCastro Theatre\\nThiswell-knownmovietheaterwasoriginallybuiltin1922. Feelthespiritof\\nthepastwhileseeingamovieinhere!\\n429CastroStreet,SanFrancisco,CA94114,USA\\nGPS:N37.76201,W122.43470\\nPhone:\\n+14156216120\\nOpening hours:\\nCheckthecalendartoseethelistofevents.\\nAdmission:\\nGeneraladmission:\\nAdults: $11\\nSeniors(over62),children(under12): $8.50\\nSomeeventsmayrequiredifferentadmissionfees.\\nG\\nPainted Ladies /PaintedLadies\\nFamouslandmarkinSanFrancisco. TheseVictorian-stylehousesarea\\nfavorite,oftenpicturedfeature.\\nGPS:N37.77566,W122.43279\\nHACTIVITIES\\n20\\nAlcatraz\\nThewell-knownAlcatrazusedtofunctionasaprisonwithfamousprison-\\nerslikeAlCapone. Nowadays,thisplaceisagreatmuseumofit\\'shistory.\\nAlcatrazLanding,Pier33,SanFrancisco,CA94133,USA\\nGPS:N37.82657,W122.42274\\nPhone:\\n+14159817625\\nOpening hours:\\nFerryservicestartsat8:45a.m. andrunsapprox. everyhalfanhour.\\nAdmission:\\nAdults(18-61): $30\\nSeniors(62+): $28.25\\nJuniors(12-17): $30\\nChildren(5-11): $18.25\\nToddlers(0-4): Free\\nTicketsincludetransportation.\\nI\\nGhirardelli Square\\nFormerlyafactorycomplex,thesebuildingsarenowadaysrenovatedand\\nbustlingwithvariouskindofcommerce.\\n851BeachSt,SanFrancisco,CA94109,USA\\nGPS:N37.80570,W122.42296\\nPhone:\\n+14157755500\\nOpening hours:\\nGuidedtoursofthesquareareavailableeveryFri,SatandMonat10a.m.\\nMeetingpointisattheconciergeboothinthecenteroftheSquare.\\nAdmission:\\nGuidedtoursarefreeofcharge.\\nJ\\nACTIVITIES\\n21\\nLombard Street\\nThiscurvystreetismostlikelyoneofthebestknownlandmarksinSan\\nFrancisco,attractingnearlyeveryvisitor.\\nLombardStreet,SanFrancisco,CA94109,USA\\nGPS:N37.80206,W122.41938\\nPhone:\\n+14153912000\\nK\\nNob Hill\\nAbeautifulneighborhoodofSanFrancisco. Greatforsightseeingortaking\\narideonlocalCableCars.\\n1450ClaySt,SanFrancisco,CA94109,USA\\nGPS:N37.79309,W122.41699\\nL\\nSan Francisco City Hall\\nThisisagreatexamplehowaCityHallshouldlooklike. Recentlyreno-\\nvated,thisbuildingisaneye-candy.\\n1DrCarltonBGoodlettPlace,SanFrancisco,CA94102,USA\\nGPS:N37.77931,W122.41841\\nPhone:\\n+14157012311\\nOpening hours:\\nMon–Fri: 8a.m. –8p.m.\\nGuidedtoursareavailablefromMontoFri: 10a.m.,12a.m.,2p.m.\\nAdmission:\\nGuidedtoursarefreeofcharge.\\nAfeeischargedforgroupsofmorethan8peopleandtheirtoursmustbe\\nbookedinadvance.\\nM\\nMarket Street\\nAlthoughnotaslongasthefamousMissionStreet,thisstreetisfamousfor\\nnumerousshops,restaurantsandhotels.\\nMarketSt,SanFrancisco,CA94103,USA\\nGPS:N37.77353,W122.42123\\nNACTIVITIES\\n22\\nMission Dolores\\nThishistoricmissionistheoldestbuildinginSanFranciscodatingbackto\\ntheyearof1776. Havetoseethisbeautifulpieceofhistory.\\n332116thStreet,SanFrancisco,CA94114,USA\\nGPS:N37.76438,W122.42682\\nPhone:\\n+14156218203\\nOpening hours:\\nMay–Oct: daily: 9a.m. –4:30p.m.\\nNov–Apr: daily: 9a.m. –4p.m.\\nAdmission:\\nThereisnoofficialadmissionfeebutdonationissuggested.\\nAdults: $5\\nSeniors,students: $3\\nO\\nGrace Cathedral\\nThisbeautifulcathedralisawell-knowntouristdestination. Enjoythe\\nbeautifularchitectureandthesurroundings!\\n1100CaliforniaStreet,SanFrancisco,CA94108,USA\\nGPS:N37.79185,W122.41289\\nPhone:\\n+14157496300\\nOpening hours:\\nMon–Fri: 7a.m. –6p.m.\\nSat: 8a.m. –6p.m.\\nSun: 8a.m. –7p.m.\\nAdmission:\\nDonationissuggested.\\nP\\nACTIVITIES\\n23\\nCable Cars\\nOneoftheabsolutemust-seeattractionsinSanFrancisco! Enjoyagreat\\nrideinoneofthetramsthatusedtoroamalloverFrisco!\\n1201MasonSt,SanFrancisco,CA94108,USA\\nGPS:N37.79461,W122.41144\\nPhone:\\n+14156736864\\nOpening hours:\\nThecablecarsstarttheirserviceat5:55a.m. andendat1:15p.m.\\nAdmission:\\nGeneralticketprice: $5oneway\\n1-dayticket: $13\\nQ\\nFisherman\\'s Wharf\\nThisisanabsolutemust-seeinSanFrancisco! Thishustlingwaterfront\\nlocationfeaturesnumerousattractions,shopsandrestaurants.\\n2801TaylorSt,SanFrancisco,CA94133,USA\\nGPS:N37.80824,W122.41581\\nPhone:\\n+14153912000\\nRACTIVITIES\\n24\\nCoit Tower\\nLocatedintheneighborhoodofTelegraphHill,thisnearly180feethigh\\ntoweroffersmagnificentviewofSanFrancisco.\\n1TelegraphHillBlvd,SanFrancisco,CA94133,USA\\nGPS:N37.80301,W122.40596\\nPhone:\\n+14153620808\\nOpening hours:\\nMar–Sep: daily: 10a.m. –5:30p.m.\\nOct–Feb: daily: 9a.m. –4:30p.m.\\nAdmission:\\nAdults: $7\\nSeniors: $5\\nYouth(12-17): $5\\nChildren(5-11): $2\\nChildrenunder4paynoadmission.\\nS\\nThe Beat Museum\\nWhereveryouarefanoftheBeatgenerationornot,thismuseumissimply\\noneofitskind. Worthseeing.\\n540Broadway,SanFrancisco,CA94133,USA\\nGPS:N37.79809,W122.40617\\nPhone:\\n+14153999626\\nOpening hours:\\nDaily: 10a.m. –7p.m.\\nChristmasandNewYear ’sDay: closed\\nAdmission:\\nAdults: $8\\nStudents,seniors: $5\\nT\\nACTIVITIES\\n25\\nChinatown San Francisco\\nEvenbiggerthanChinatowninNYC,thisoneisactuallyoneoftheoldest\\nandbiggestintheU.S.Definitelyworthwalkingthrough.\\n888ClaySt,SanFrancisco,CA94108,USA\\nGPS:N37.79409,W122.40782\\nPhone:\\n+18882123203\\nU\\nTransamerica Pyramid /TransamericaPyramid\\nThispyramid-shapedskyscraperisoneofthebestknownbuildingsinSan\\nFrancisco. Sadly,norooftopaccessavailable.\\n600MontgomeryStreet,SanFrancisco,CA94111,USA\\nGPS:N37.79548,W122.40324\\nPhone:\\n+14159834000\\nOpening hours:\\nBuildingisnotopentopublicduetosecurityreasons.\\nVisitorcenteronthePlazaLeveloffClayStreetisopenfromMontoFri: 10\\na.m. –3p.m.\\nV\\nWalt Disney Family Museum\\nAmuseumdedicatedtoWaltandhispersonallifeaswellashisworks.\\nPerfectplaceforfamilieswithkids.\\n104MontgomerySt,SanFrancisco,CA94129,USA\\nGPS:N37.80119,W122.45829\\nPhone:\\n+14153456800\\nOpening hours:\\nWed–Mon: 10a.m. –6p.m.\\nLastticketsaresoldat4:45p.m.\\nAdmission:\\nAdults: $20\\nSeniors(over65),students: $15\\nChildren(6-17): $12\\nChildren(under6): free\\nWACTIVITIES\\n26\\nThe Embarcadero\\nThisistheheartofSanFrancisco. Manyshops,attractionsandrestaurants\\navailable. Cannotmiss!\\n1TheEmbarcadero,SanFrancisco,CA94105,USA\\nGPS:N37.79768,W122.39434\\nPhone:\\n+14157720700\\nX\\nGordon Biersch\\nExcellentandwell-knownrestaurantlocatedneartheEmbarcadero. Enjoy\\ntheviewoftheBay!\\n2HarrisonSt,SanFrancisco,CA94105,USA\\nGPS:N37.78903,W122.38933\\nPhone:\\n+14152438246\\nY\\nAT&T Park\\nThisstadiumishometothewell-knownSanFranciscoGiants. Greatand\\nmodernstadiumofferingmagnificentviewofthecity.\\n24WillieMaysPlaza,SanFrancisco,CA94107,USA\\nGPS:N37.77814,W122.39087\\nPhone:\\n+18777341001\\nOpening hours:\\nTimesofeventsvary.\\nGuidedtoursofthestadiumareavailabledailyat10:30a.m. and12:30\\np.m.\\nCheckthewebsitetoseewhichdaysareunavailablefortours.\\nAdmission:\\nPricesofticketstoeventsvary.\\nPricesofguidedtours:\\nAdults: $20\\nSeniors(over55): $15\\nChildren(under12): $10\\nChildren(under2): free\\nZ'"
            ],
            "application/vnd.google.colaboratory.intrinsic+json": {
              "type": "string"
            }
          },
          "metadata": {},
          "execution_count": 8
        }
      ]
    },
    {
      "cell_type": "code",
      "source": [
        "cassio.init(token=ASTRA_DB_APPLICATION_TOKEN, database_id=ASTRA_DB_ID)"
      ],
      "metadata": {
        "id": "i5Yq0Zu_1m6o"
      },
      "execution_count": 9,
      "outputs": []
    },
    {
      "cell_type": "code",
      "source": [
        "# Create the Langchain Embedding And LLM objects for later usage\n",
        "llm = OpenAI(openai_api_key=OPENAI_API_KEY)\n",
        "embedding = OpenAIEmbeddings(openai_api_key=OPENAI_API_KEY)"
      ],
      "metadata": {
        "id": "81L0sK9X14nk",
        "outputId": "944e1628-f3c0-45be-9cf3-d20ea6affd37",
        "colab": {
          "base_uri": "https://localhost:8080/"
        }
      },
      "execution_count": 10,
      "outputs": [
        {
          "output_type": "stream",
          "name": "stderr",
          "text": [
            "<ipython-input-10-f015a5c473ee>:2: LangChainDeprecationWarning: The class `OpenAI` was deprecated in LangChain 0.0.10 and will be removed in 1.0. An updated version of the class exists in the :class:`~langchain-openai package and should be used instead. To use it run `pip install -U :class:`~langchain-openai` and import as `from :class:`~langchain_openai import OpenAI``.\n",
            "  llm = OpenAI(openai_api_key=OPENAI_API_KEY)\n",
            "<ipython-input-10-f015a5c473ee>:3: LangChainDeprecationWarning: The class `OpenAIEmbeddings` was deprecated in LangChain 0.0.9 and will be removed in 1.0. An updated version of the class exists in the :class:`~langchain-openai package and should be used instead. To use it run `pip install -U :class:`~langchain-openai` and import as `from :class:`~langchain_openai import OpenAIEmbeddings``.\n",
            "  embedding = OpenAIEmbeddings(openai_api_key=OPENAI_API_KEY)\n"
          ]
        }
      ]
    },
    {
      "cell_type": "code",
      "source": [
        "# Create Langchain Vector Store Backed by Astra DB\n",
        "astra_vector_store = Cassandra(\n",
        "    embedding=embedding,\n",
        "    table_name=\"qa_mini_demo\",\n",
        "    session=None,\n",
        "    keyspace=None,\n",
        ")"
      ],
      "metadata": {
        "id": "yGKmZvUf2kw-"
      },
      "execution_count": null,
      "outputs": []
    },
    {
      "cell_type": "code",
      "source": [
        "from langchain.text_splitter import CharacterTextSplitter\n",
        "# We need to split text using Character Text Split such that it should not increase token size\n",
        "text_splitter = CharacterTextSplitter(\n",
        "    separator = \"\\n\",\n",
        "    chunk_size = 800,\n",
        "    chunk_overlap = 200,\n",
        "    length_function = len,\n",
        ")\n",
        "texts = text_splitter.split_text(raw_text)"
      ],
      "metadata": {
        "id": "0cw-uTyy22PP"
      },
      "execution_count": null,
      "outputs": []
    },
    {
      "cell_type": "code",
      "source": [
        "# Load the dataset into the vector store\n",
        "astra_vector_store.add_texts(texts[:50])\n",
        "\n",
        "print(\"Inserted %i headlines.\" % len(texts[:50]))\n",
        "\n",
        "astra_vector_index = VectorStoreIndexWrapper(vectorstore=astra_vector_store)"
      ],
      "metadata": {
        "id": "7Dxm64lv32YN"
      },
      "execution_count": null,
      "outputs": []
    },
    {
      "cell_type": "code",
      "source": [
        "first_question = True\n",
        "while True:\n",
        "  if first_question:\n",
        "    query_text = input(\"\\nEnter your question (or type 'quit' to exit): \").strip()\n",
        "  else:\n",
        "    query_text = input(\"\\nWhat's your next question (or type 'quit' to exit): \").strip()\n",
        "\n",
        "  if query_text.lower() == \"quit\":\n",
        "    break\n",
        "\n",
        "  if query_text == \"\":\n",
        "    continue\n",
        "\n",
        "  first_question = False\n",
        "\n",
        "  print(\"\\nQUESTION: \\\"%s\\\"\" % query_text)\n",
        "  answer = astra_vector_index.query(query_text, llm=llm).strip()\n",
        "  print(\"\\nANSWER: \\\"%s\\\"\" % answer)\n",
        "\n",
        "  print(\"FIRST DOCUMENTS BY RELEVANCE:\")\n",
        "  for doc, score in astra_vector_store.similarity_search_with_score(query_text, k=4):\n",
        "    print(\"....[%0.4f] \\\"%s ...\\\"\"% (score, doc.page_content[:84]))\n",
        ""
      ],
      "metadata": {
        "id": "nOGgihUi4vJ5"
      },
      "execution_count": null,
      "outputs": []
    }
  ]
}